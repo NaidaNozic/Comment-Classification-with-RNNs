{
 "cells": [
  {
   "cell_type": "code",
   "execution_count": 1,
   "metadata": {},
   "outputs": [],
   "source": [
    "import pandas as pd\n",
    "import matplotlib.pyplot as plt\n",
    "import re\n",
    "import numpy as np\n",
    "from sklearn.model_selection import train_test_split\n",
    "from sklearn.feature_extraction.text import TfidfVectorizer\n",
    "import re, string\n",
    "from sklearn.metrics import accuracy_score, f1_score, precision_score, recall_score\n",
    "from sklearn.linear_model import LogisticRegression"
   ]
  },
  {
   "cell_type": "code",
   "execution_count": 2,
   "metadata": {},
   "outputs": [],
   "source": [
    "file = \"cleaned_train.csv\"\n",
    "df = pd.read_csv(file)"
   ]
  },
  {
   "cell_type": "code",
   "execution_count": 3,
   "metadata": {},
   "outputs": [],
   "source": [
    "# Remove null values\n",
    "df['processed_comment_text'] = df['processed_comment_text'].fillna(\"unknown\")\n",
    "df['cleaned_comment_text'] = df['cleaned_comment_text'].fillna(\"unknown\")\n",
    "\n",
    "# Encode labels\n",
    "labels = ['toxic', 'severe_toxic', 'obscene', 'threat', 'insult', 'identity_hate']\n",
    "\n",
    "train_data, test_data = train_test_split(df, test_size=0.2, random_state=42)"
   ]
  },
  {
   "cell_type": "markdown",
   "metadata": {},
   "source": [
    "### TF-IDF + Logistic Regression"
   ]
  },
  {
   "cell_type": "code",
   "execution_count": null,
   "metadata": {},
   "outputs": [],
   "source": [
    "# Vectorization using TF-IDF\n",
    "tfidf_vectorizer = TfidfVectorizer()\n",
    "train_tfidf = tfidf_vectorizer.fit_transform(train_data['processed_comment_text'])\n",
    "test_tfidf = tfidf_vectorizer.transform(test_data['processed_comment_text'])\n",
    "\n",
    "# Logistic Regression classifier for each class\n",
    "lr_model = LogisticRegression(max_iter=1000)\n",
    "metrics_lr = {}\n",
    "\n",
    "# Use train_data to fit the model\n",
    "for label in labels:\n",
    "    lr_model.fit(train_tfidf, train_data[label])\n",
    "    preds = lr_model.predict(test_tfidf)\n",
    "    metrics_lr[label] = {\n",
    "        'accuracy': accuracy_score(test_data[label], preds),\n",
    "        'f1': f1_score(test_data[label], preds),\n",
    "        'precision': precision_score(test_data[label], preds),\n",
    "        'recall': recall_score(test_data[label], preds)\n",
    "    }\n",
    "\n",
    "print(\"Baseline (TF-IDF + Logistic Regression) Results:\", metrics_lr)"
   ]
  },
  {
   "cell_type": "code",
   "execution_count": null,
   "metadata": {},
   "outputs": [],
   "source": [
    "data = []\n",
    "\n",
    "# Collect data for each label from the metrics\n",
    "for label in labels:\n",
    "    data.append({\n",
    "        'Class': label,\n",
    "        'Accuracy': metrics_lr[label]['accuracy'],\n",
    "        'F1 Score': metrics_lr[label]['f1'],\n",
    "        'Precision': metrics_lr[label]['precision'],\n",
    "        'Recall': metrics_lr[label]['recall'],\n",
    "    })\n",
    "\n",
    "# Create the DataFrame\n",
    "metrics_df_lr = pd.DataFrame(data)\n",
    "\n",
    "# Display the DataFrame\n",
    "metrics_df_lr"
   ]
  },
  {
   "cell_type": "code",
   "execution_count": null,
   "metadata": {},
   "outputs": [],
   "source": []
  },
  {
   "cell_type": "code",
   "execution_count": null,
   "metadata": {},
   "outputs": [],
   "source": []
  }
 ],
 "metadata": {
  "kernelspec": {
   "display_name": "Python 3 (ipykernel)",
   "language": "python",
   "name": "python3"
  },
  "language_info": {
   "codemirror_mode": {
    "name": "ipython",
    "version": 3
   },
   "file_extension": ".py",
   "mimetype": "text/x-python",
   "name": "python",
   "nbconvert_exporter": "python",
   "pygments_lexer": "ipython3",
   "version": "3.11.5"
  }
 },
 "nbformat": 4,
 "nbformat_minor": 4
}
