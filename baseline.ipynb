{
 "cells": [
  {
   "cell_type": "code",
   "execution_count": 1,
   "metadata": {},
   "outputs": [],
   "source": [
    "import pandas as pd\n",
    "import matplotlib.pyplot as plt\n",
    "import re\n",
    "import numpy as np\n",
    "from sklearn.model_selection import train_test_split\n",
    "from sklearn.feature_extraction.text import TfidfVectorizer\n",
    "import re, string\n",
    "from sklearn.metrics import accuracy_score, f1_score, precision_score, recall_score\n",
    "from sklearn.linear_model import LogisticRegression"
   ]
  },
  {
   "cell_type": "code",
   "execution_count": 2,
   "metadata": {},
   "outputs": [],
   "source": [
    "file = \"cleaned_train.csv\"\n",
    "df = pd.read_csv(file)"
   ]
  },
  {
   "cell_type": "code",
   "execution_count": 3,
   "metadata": {},
   "outputs": [],
   "source": [
    "# Remove null values\n",
    "df['processed_comment_text'] = df['processed_comment_text'].fillna(\"unknown\")\n",
    "df['cleaned_comment_text'] = df['cleaned_comment_text'].fillna(\"unknown\")\n",
    "\n",
    "# Encode labels\n",
    "labels = ['toxic', 'severe_toxic', 'obscene', 'threat', 'insult', 'identity_hate']\n",
    "\n",
    "train_data, test_data = train_test_split(df, test_size=0.2, random_state=42)"
   ]
  },
  {
   "cell_type": "markdown",
   "metadata": {},
   "source": [
    "### TF-IDF + Logistic Regression"
   ]
  },
  {
   "cell_type": "code",
   "execution_count": 4,
   "metadata": {},
   "outputs": [
    {
     "name": "stdout",
     "output_type": "stream",
     "text": [
      "Baseline (TF-IDF + Logistic Regression) Results: {'toxic': {'accuracy': 0.9569481435061883, 'f1': np.float64(0.7306938455507644), 'precision': np.float64(0.9110459433040078), 'recall': np.float64(0.6099476439790575)}, 'severe_toxic': {'accuracy': 0.9906000313332289, 'f1': np.float64(0.375), 'precision': np.float64(0.5660377358490566), 'recall': np.float64(0.2803738317757009)}, 'obscene': {'accuracy': 0.9762180792730691, 'f1': np.float64(0.736), 'precision': np.float64(0.9120689655172414), 'recall': np.float64(0.6169096209912537)}, 'threat': {'accuracy': 0.9976813410621964, 'f1': np.float64(0.17777777777777778), 'precision': np.float64(0.5), 'recall': np.float64(0.10810810810810811)}, 'insult': {'accuracy': 0.9693247689174369, 'f1': np.float64(0.6264784433422358), 'precision': np.float64(0.8152929493545183), 'recall': np.float64(0.5086741016109045)}, 'identity_hate': {'accuracy': 0.9916340278865737, 'f1': np.float64(0.26038781163434904), 'precision': np.float64(0.7014925373134329), 'recall': np.float64(0.1598639455782313)}}\n"
     ]
    }
   ],
   "source": [
    "# Vectorization using TF-IDF\n",
    "tfidf_vectorizer = TfidfVectorizer()\n",
    "train_tfidf = tfidf_vectorizer.fit_transform(train_data['processed_comment_text'])\n",
    "test_tfidf = tfidf_vectorizer.transform(test_data['processed_comment_text'])\n",
    "\n",
    "# Logistic Regression classifier for each class\n",
    "lr_model = LogisticRegression(max_iter=1000)\n",
    "metrics_lr = {}\n",
    "\n",
    "# Use train_data to fit the model\n",
    "for label in labels:\n",
    "    lr_model.fit(train_tfidf, train_data[label])\n",
    "    preds = lr_model.predict(test_tfidf)\n",
    "    metrics_lr[label] = {\n",
    "        'accuracy': accuracy_score(test_data[label], preds),\n",
    "        'f1': f1_score(test_data[label], preds),\n",
    "        'precision': precision_score(test_data[label], preds),\n",
    "        'recall': recall_score(test_data[label], preds)\n",
    "    }\n",
    "\n",
    "print(\"Baseline (TF-IDF + Logistic Regression) Results:\", metrics_lr)"
   ]
  },
  {
   "cell_type": "code",
   "execution_count": 5,
   "metadata": {},
   "outputs": [
    {
     "data": {
      "text/html": [
       "<div>\n",
       "<style scoped>\n",
       "    .dataframe tbody tr th:only-of-type {\n",
       "        vertical-align: middle;\n",
       "    }\n",
       "\n",
       "    .dataframe tbody tr th {\n",
       "        vertical-align: top;\n",
       "    }\n",
       "\n",
       "    .dataframe thead th {\n",
       "        text-align: right;\n",
       "    }\n",
       "</style>\n",
       "<table border=\"1\" class=\"dataframe\">\n",
       "  <thead>\n",
       "    <tr style=\"text-align: right;\">\n",
       "      <th></th>\n",
       "      <th>Class</th>\n",
       "      <th>Accuracy</th>\n",
       "      <th>F1 Score</th>\n",
       "      <th>Precision</th>\n",
       "      <th>Recall</th>\n",
       "    </tr>\n",
       "  </thead>\n",
       "  <tbody>\n",
       "    <tr>\n",
       "      <th>0</th>\n",
       "      <td>toxic</td>\n",
       "      <td>0.956948</td>\n",
       "      <td>0.730694</td>\n",
       "      <td>0.911046</td>\n",
       "      <td>0.609948</td>\n",
       "    </tr>\n",
       "    <tr>\n",
       "      <th>1</th>\n",
       "      <td>severe_toxic</td>\n",
       "      <td>0.990600</td>\n",
       "      <td>0.375000</td>\n",
       "      <td>0.566038</td>\n",
       "      <td>0.280374</td>\n",
       "    </tr>\n",
       "    <tr>\n",
       "      <th>2</th>\n",
       "      <td>obscene</td>\n",
       "      <td>0.976218</td>\n",
       "      <td>0.736000</td>\n",
       "      <td>0.912069</td>\n",
       "      <td>0.616910</td>\n",
       "    </tr>\n",
       "    <tr>\n",
       "      <th>3</th>\n",
       "      <td>threat</td>\n",
       "      <td>0.997681</td>\n",
       "      <td>0.177778</td>\n",
       "      <td>0.500000</td>\n",
       "      <td>0.108108</td>\n",
       "    </tr>\n",
       "    <tr>\n",
       "      <th>4</th>\n",
       "      <td>insult</td>\n",
       "      <td>0.969325</td>\n",
       "      <td>0.626478</td>\n",
       "      <td>0.815293</td>\n",
       "      <td>0.508674</td>\n",
       "    </tr>\n",
       "    <tr>\n",
       "      <th>5</th>\n",
       "      <td>identity_hate</td>\n",
       "      <td>0.991634</td>\n",
       "      <td>0.260388</td>\n",
       "      <td>0.701493</td>\n",
       "      <td>0.159864</td>\n",
       "    </tr>\n",
       "  </tbody>\n",
       "</table>\n",
       "</div>"
      ],
      "text/plain": [
       "           Class  Accuracy  F1 Score  Precision    Recall\n",
       "0          toxic  0.956948  0.730694   0.911046  0.609948\n",
       "1   severe_toxic  0.990600  0.375000   0.566038  0.280374\n",
       "2        obscene  0.976218  0.736000   0.912069  0.616910\n",
       "3         threat  0.997681  0.177778   0.500000  0.108108\n",
       "4         insult  0.969325  0.626478   0.815293  0.508674\n",
       "5  identity_hate  0.991634  0.260388   0.701493  0.159864"
      ]
     },
     "execution_count": 5,
     "metadata": {},
     "output_type": "execute_result"
    }
   ],
   "source": [
    "data = []\n",
    "\n",
    "# Collect data for each label from the metrics\n",
    "for label in labels:\n",
    "    data.append({\n",
    "        'Class': label,\n",
    "        'Accuracy': metrics_lr[label]['accuracy'],\n",
    "        'F1 Score': metrics_lr[label]['f1'],\n",
    "        'Precision': metrics_lr[label]['precision'],\n",
    "        'Recall': metrics_lr[label]['recall'],\n",
    "    })\n",
    "\n",
    "# Create the DataFrame\n",
    "metrics_df_lr = pd.DataFrame(data)\n",
    "\n",
    "# Display the DataFrame\n",
    "metrics_df_lr"
   ]
  }
 ],
 "metadata": {
  "kernelspec": {
   "display_name": "Python 3",
   "language": "python",
   "name": "python3"
  },
  "language_info": {
   "codemirror_mode": {
    "name": "ipython",
    "version": 3
   },
   "file_extension": ".py",
   "mimetype": "text/x-python",
   "name": "python",
   "nbconvert_exporter": "python",
   "pygments_lexer": "ipython3",
   "version": "3.11.5"
  }
 },
 "nbformat": 4,
 "nbformat_minor": 4
}
